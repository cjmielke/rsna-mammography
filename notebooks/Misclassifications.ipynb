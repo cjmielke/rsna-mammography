{
 "cells": [
  {
   "cell_type": "code",
   "execution_count": 2,
   "id": "2d28b47d",
   "metadata": {},
   "outputs": [],
   "source": [
    "import pandas as pd\n",
    "from sklearn import metrics\n",
    "import seaborn as sns\n",
    "import numpy as np\n",
    "from matplotlib import pyplot as plt"
   ]
  },
  {
   "cell_type": "code",
   "execution_count": 3,
   "id": "6ff4ab2d",
   "metadata": {},
   "outputs": [],
   "source": [
    "df = pd.read_csv('/fast/home/cosmo/rsna-mammography/attention_MIL/predictions.csv')"
   ]
  },
  {
   "cell_type": "code",
   "execution_count": 4,
   "id": "ac3c5749",
   "metadata": {},
   "outputs": [
    {
     "data": {
      "text/plain": [
       "0    42780\n",
       "1      896\n",
       "Name: cancer, dtype: int64"
      ]
     },
     "execution_count": 4,
     "metadata": {},
     "output_type": "execute_result"
    }
   ],
   "source": [
    "df.cancer.value_counts()"
   ]
  },
  {
   "cell_type": "code",
   "execution_count": 5,
   "id": "592553d2",
   "metadata": {},
   "outputs": [
    {
     "data": {
      "text/html": [
       "<div>\n",
       "<style scoped>\n",
       "    .dataframe tbody tr th:only-of-type {\n",
       "        vertical-align: middle;\n",
       "    }\n",
       "\n",
       "    .dataframe tbody tr th {\n",
       "        vertical-align: top;\n",
       "    }\n",
       "\n",
       "    .dataframe thead th {\n",
       "        text-align: right;\n",
       "    }\n",
       "</style>\n",
       "<table border=\"1\" class=\"dataframe\">\n",
       "  <thead>\n",
       "    <tr style=\"text-align: right;\">\n",
       "      <th></th>\n",
       "      <th>Unnamed: 0</th>\n",
       "      <th>image_id</th>\n",
       "      <th>cancer</th>\n",
       "      <th>prob</th>\n",
       "      <th>pred</th>\n",
       "    </tr>\n",
       "  </thead>\n",
       "  <tbody>\n",
       "    <tr>\n",
       "      <th>0</th>\n",
       "      <td>0</td>\n",
       "      <td>462822612</td>\n",
       "      <td>0</td>\n",
       "      <td>0.000395</td>\n",
       "      <td>0.0</td>\n",
       "    </tr>\n",
       "    <tr>\n",
       "      <th>1</th>\n",
       "      <td>1</td>\n",
       "      <td>1459541791</td>\n",
       "      <td>0</td>\n",
       "      <td>0.000394</td>\n",
       "      <td>0.0</td>\n",
       "    </tr>\n",
       "    <tr>\n",
       "      <th>2</th>\n",
       "      <td>2</td>\n",
       "      <td>1864590858</td>\n",
       "      <td>0</td>\n",
       "      <td>0.003490</td>\n",
       "      <td>0.0</td>\n",
       "    </tr>\n",
       "    <tr>\n",
       "      <th>3</th>\n",
       "      <td>3</td>\n",
       "      <td>1874946579</td>\n",
       "      <td>0</td>\n",
       "      <td>0.002511</td>\n",
       "      <td>0.0</td>\n",
       "    </tr>\n",
       "    <tr>\n",
       "      <th>4</th>\n",
       "      <td>4</td>\n",
       "      <td>220375232</td>\n",
       "      <td>0</td>\n",
       "      <td>0.000630</td>\n",
       "      <td>0.0</td>\n",
       "    </tr>\n",
       "    <tr>\n",
       "      <th>...</th>\n",
       "      <td>...</td>\n",
       "      <td>...</td>\n",
       "      <td>...</td>\n",
       "      <td>...</td>\n",
       "      <td>...</td>\n",
       "    </tr>\n",
       "    <tr>\n",
       "      <th>43671</th>\n",
       "      <td>54701</td>\n",
       "      <td>1729524723</td>\n",
       "      <td>0</td>\n",
       "      <td>0.023487</td>\n",
       "      <td>0.0</td>\n",
       "    </tr>\n",
       "    <tr>\n",
       "      <th>43672</th>\n",
       "      <td>54702</td>\n",
       "      <td>63473691</td>\n",
       "      <td>0</td>\n",
       "      <td>0.002025</td>\n",
       "      <td>0.0</td>\n",
       "    </tr>\n",
       "    <tr>\n",
       "      <th>43673</th>\n",
       "      <td>54703</td>\n",
       "      <td>1078943060</td>\n",
       "      <td>0</td>\n",
       "      <td>0.002101</td>\n",
       "      <td>0.0</td>\n",
       "    </tr>\n",
       "    <tr>\n",
       "      <th>43674</th>\n",
       "      <td>54704</td>\n",
       "      <td>398038886</td>\n",
       "      <td>0</td>\n",
       "      <td>0.005561</td>\n",
       "      <td>0.0</td>\n",
       "    </tr>\n",
       "    <tr>\n",
       "      <th>43675</th>\n",
       "      <td>54705</td>\n",
       "      <td>439796429</td>\n",
       "      <td>0</td>\n",
       "      <td>0.001399</td>\n",
       "      <td>0.0</td>\n",
       "    </tr>\n",
       "  </tbody>\n",
       "</table>\n",
       "<p>43676 rows × 5 columns</p>\n",
       "</div>"
      ],
      "text/plain": [
       "       Unnamed: 0    image_id  cancer      prob  pred\n",
       "0               0   462822612       0  0.000395   0.0\n",
       "1               1  1459541791       0  0.000394   0.0\n",
       "2               2  1864590858       0  0.003490   0.0\n",
       "3               3  1874946579       0  0.002511   0.0\n",
       "4               4   220375232       0  0.000630   0.0\n",
       "...           ...         ...     ...       ...   ...\n",
       "43671       54701  1729524723       0  0.023487   0.0\n",
       "43672       54702    63473691       0  0.002025   0.0\n",
       "43673       54703  1078943060       0  0.002101   0.0\n",
       "43674       54704   398038886       0  0.005561   0.0\n",
       "43675       54705   439796429       0  0.001399   0.0\n",
       "\n",
       "[43676 rows x 5 columns]"
      ]
     },
     "execution_count": 5,
     "metadata": {},
     "output_type": "execute_result"
    }
   ],
   "source": [
    "df['pred'] = 1.0*(df.prob>0.5)\n",
    "#df['pred'] = 1.0*(df.prob>df.prob.mean())\n",
    "df"
   ]
  },
  {
   "cell_type": "code",
   "execution_count": 6,
   "id": "62d381c7",
   "metadata": {},
   "outputs": [
    {
     "data": {
      "text/plain": [
       "(5.3336547e-25, 0.9999659)"
      ]
     },
     "execution_count": 6,
     "metadata": {},
     "output_type": "execute_result"
    }
   ],
   "source": [
    "df.prob.min(), df.prob.max()"
   ]
  },
  {
   "cell_type": "code",
   "execution_count": 7,
   "id": "c1b0811a",
   "metadata": {},
   "outputs": [
    {
     "name": "stdout",
     "output_type": "stream",
     "text": [
      "AUC : 0.8076510374924865\n"
     ]
    },
    {
     "data": {
      "text/plain": [
       "<AxesSubplot: >"
      ]
     },
     "execution_count": 7,
     "metadata": {},
     "output_type": "execute_result"
    },
    {
     "data": {
      "image/png": "[encoded data removed]",
      "text/plain": [
       "<Figure size 640x480 with 1 Axes>"
      ]
     },
     "metadata": {},
     "output_type": "display_data"
    }
   ],
   "source": [
    "fpr, tpr, thresholds = metrics.roc_curve(df.cancer, df.prob, pos_label=1)\n",
    "auc=metrics.auc(fpr, tpr)\n",
    "print(f'AUC : {auc}')\n",
    "sns.lineplot(x=fpr,y=tpr)"
   ]
  },
  {
   "cell_type": "code",
   "execution_count": 8,
   "id": "f508ebc8",
   "metadata": {},
   "outputs": [
    {
     "data": {
      "text/plain": [
       "<AxesSubplot: xlabel='prob', ylabel='Count'>"
      ]
     },
     "execution_count": 8,
     "metadata": {},
     "output_type": "execute_result"
    },
    {
     "data": {
      "image/png": "[encoded data removed]",
      "text/plain": [
       "<Figure size 640x480 with 1 Axes>"
      ]
     },
     "metadata": {},
     "output_type": "display_data"
    }
   ],
   "source": [
    "sns.histplot(df[df.cancer==1].prob)"
   ]
  },
  {
   "cell_type": "code",
   "execution_count": 9,
   "id": "41624f40",
   "metadata": {},
   "outputs": [
    {
     "data": {
      "image/png": "[encoded data removed]",
      "text/plain": [
       "<Figure size 640x480 with 2 Axes>"
      ]
     },
     "metadata": {},
     "output_type": "display_data"
    }
   ],
   "source": [
    "#labels = ['True Neg','False Pos','False Neg','True Pos']\n",
    "#labels = np.asarray(labels).reshape(2,2)\n",
    "sns.heatmap(\n",
    "    #metrics.confusion_matrix(df.cancer, df.pred),\n",
    "    metrics.confusion_matrix(df.cancer, df.prob>0.5),\n",
    "    annot=True, fmt='d'\n",
    ")\n",
    "plt.ylabel('True label')\n",
    "plt.xlabel('Predicted label')\n",
    "plt.show()"
   ]
  },
  {
   "cell_type": "code",
   "execution_count": 12,
   "id": "0bda07cd",
   "metadata": {},
   "outputs": [],
   "source": [
    "correctCancer = df[(df.pred==df.cancer) & (df.cancer==1)]\n",
    "del correctCancer['Unnamed: 0']\n",
    "correctCancer.to_csv('/fast/rsna-breast/tables/correct123.csv')"
   ]
  },
  {
   "cell_type": "code",
   "execution_count": null,
   "id": "262151e1",
   "metadata": {},
   "outputs": [],
   "source": []
  },
  {
   "cell_type": "code",
   "execution_count": null,
   "id": "4f66e5c0",
   "metadata": {},
   "outputs": [],
   "source": []
  },
  {
   "cell_type": "markdown",
   "id": "05219da0",
   "metadata": {},
   "source": [
    "# Round two \n",
    "### a model trained with the 123 correctly-classified instances above removed"
   ]
  },
  {
   "cell_type": "code",
   "execution_count": 22,
   "id": "2258e295",
   "metadata": {},
   "outputs": [],
   "source": [
    "df2 = pd.read_csv('/fast/home/cosmo/rsna-mammography/attention_MIL/predictions-2.csv')\n",
    "df2['pred'] = 1.0*(df2.prob>0.5)"
   ]
  },
  {
   "cell_type": "code",
   "execution_count": 14,
   "id": "4b2ec503",
   "metadata": {},
   "outputs": [
    {
     "name": "stdout",
     "output_type": "stream",
     "text": [
      "AUC : 0.8002998584169919\n"
     ]
    },
    {
     "data": {
      "text/plain": [
       "<AxesSubplot: >"
      ]
     },
     "execution_count": 14,
     "metadata": {},
     "output_type": "execute_result"
    },
    {
     "data": {
      "image/png": "[encoded data removed]",
      "text/plain": [
       "<Figure size 640x480 with 1 Axes>"
      ]
     },
     "metadata": {},
     "output_type": "display_data"
    }
   ],
   "source": [
    "fpr, tpr, thresholds = metrics.roc_curve(df2.cancer, df2.prob, pos_label=1)\n",
    "auc=metrics.auc(fpr, tpr)\n",
    "print(f'AUC : {auc}')\n",
    "sns.lineplot(x=fpr,y=tpr)"
   ]
  },
  {
   "cell_type": "code",
   "execution_count": 31,
   "id": "015c4285",
   "metadata": {},
   "outputs": [
    {
     "data": {
      "image/png": "[encoded data removed]",
      "text/plain": [
       "<Figure size 640x480 with 2 Axes>"
      ]
     },
     "metadata": {},
     "output_type": "display_data"
    }
   ],
   "source": [
    "# labels = ['True Neg','False Pos','False Neg','True Pos']\n",
    "#labels = np.asarray(labels).reshape(2,2)\n",
    "sns.heatmap(\n",
    "    #metrics.confusion_matrix(df.cancer, df.pred),\n",
    "    metrics.confusion_matrix(df2.cancer, df2.prob>0.5),\n",
    "    annot=True, fmt='d'\n",
    ")\n",
    "plt.ylabel('True label')\n",
    "plt.xlabel('Predicted label')\n",
    "plt.show()"
   ]
  },
  {
   "cell_type": "code",
   "execution_count": 30,
   "id": "ba1f70fb",
   "metadata": {},
   "outputs": [],
   "source": [
    "correctCancer2 = df2[(df2.pred==df2.cancer) & (df2.cancer==1)]\n",
    "del correctCancer2['Unnamed: 0']\n",
    "correctCancer2.to_csv('/fast/rsna-breast/tables/correct_stage2.csv')"
   ]
  },
  {
   "cell_type": "code",
   "execution_count": null,
   "id": "a21b6010",
   "metadata": {},
   "outputs": [],
   "source": []
  },
  {
   "cell_type": "code",
   "execution_count": null,
   "id": "df09bf49",
   "metadata": {},
   "outputs": [],
   "source": []
  },
  {
   "cell_type": "code",
   "execution_count": null,
   "id": "4ea37c99",
   "metadata": {},
   "outputs": [],
   "source": []
  },
  {
   "cell_type": "code",
   "execution_count": null,
   "id": "f588dbeb",
   "metadata": {},
   "outputs": [],
   "source": []
  },
  {
   "cell_type": "code",
   "execution_count": null,
   "id": "29b3c943",
   "metadata": {},
   "outputs": [],
   "source": []
  },
  {
   "cell_type": "code",
   "execution_count": null,
   "id": "4637d320",
   "metadata": {},
   "outputs": [],
   "source": [
    "# merge the results together"
   ]
  },
  {
   "cell_type": "code",
   "execution_count": 27,
   "id": "b02d1f0c",
   "metadata": {},
   "outputs": [
    {
     "data": {
      "text/html": [
       "<div>\n",
       "<style scoped>\n",
       "    .dataframe tbody tr th:only-of-type {\n",
       "        vertical-align: middle;\n",
       "    }\n",
       "\n",
       "    .dataframe tbody tr th {\n",
       "        vertical-align: top;\n",
       "    }\n",
       "\n",
       "    .dataframe thead th {\n",
       "        text-align: right;\n",
       "    }\n",
       "</style>\n",
       "<table border=\"1\" class=\"dataframe\">\n",
       "  <thead>\n",
       "    <tr style=\"text-align: right;\">\n",
       "      <th></th>\n",
       "      <th>Unnamed: 0</th>\n",
       "      <th>cancer</th>\n",
       "      <th>prob</th>\n",
       "      <th>pred</th>\n",
       "    </tr>\n",
       "    <tr>\n",
       "      <th>image_id</th>\n",
       "      <th></th>\n",
       "      <th></th>\n",
       "      <th></th>\n",
       "      <th></th>\n",
       "    </tr>\n",
       "  </thead>\n",
       "  <tbody>\n",
       "    <tr>\n",
       "      <th>68491</th>\n",
       "      <td>18887</td>\n",
       "      <td>0</td>\n",
       "      <td>0.073886</td>\n",
       "      <td>0.0</td>\n",
       "    </tr>\n",
       "    <tr>\n",
       "      <th>127964</th>\n",
       "      <td>13448</td>\n",
       "      <td>0</td>\n",
       "      <td>0.017102</td>\n",
       "      <td>0.0</td>\n",
       "    </tr>\n",
       "    <tr>\n",
       "      <th>193459</th>\n",
       "      <td>22857</td>\n",
       "      <td>0</td>\n",
       "      <td>0.014986</td>\n",
       "      <td>0.0</td>\n",
       "    </tr>\n",
       "    <tr>\n",
       "      <th>225973</th>\n",
       "      <td>827</td>\n",
       "      <td>0</td>\n",
       "      <td>0.221712</td>\n",
       "      <td>0.0</td>\n",
       "    </tr>\n",
       "    <tr>\n",
       "      <th>249677</th>\n",
       "      <td>13658</td>\n",
       "      <td>0</td>\n",
       "      <td>0.007233</td>\n",
       "      <td>0.0</td>\n",
       "    </tr>\n",
       "    <tr>\n",
       "      <th>...</th>\n",
       "      <td>...</td>\n",
       "      <td>...</td>\n",
       "      <td>...</td>\n",
       "      <td>...</td>\n",
       "    </tr>\n",
       "    <tr>\n",
       "      <th>2147266534</th>\n",
       "      <td>36145</td>\n",
       "      <td>0</td>\n",
       "      <td>0.002846</td>\n",
       "      <td>0.0</td>\n",
       "    </tr>\n",
       "    <tr>\n",
       "      <th>2147293172</th>\n",
       "      <td>53694</td>\n",
       "      <td>0</td>\n",
       "      <td>0.007467</td>\n",
       "      <td>0.0</td>\n",
       "    </tr>\n",
       "    <tr>\n",
       "      <th>2147355367</th>\n",
       "      <td>23227</td>\n",
       "      <td>0</td>\n",
       "      <td>0.200425</td>\n",
       "      <td>0.0</td>\n",
       "    </tr>\n",
       "    <tr>\n",
       "      <th>2147415608</th>\n",
       "      <td>42946</td>\n",
       "      <td>0</td>\n",
       "      <td>0.003660</td>\n",
       "      <td>0.0</td>\n",
       "    </tr>\n",
       "    <tr>\n",
       "      <th>2147471846</th>\n",
       "      <td>24051</td>\n",
       "      <td>0</td>\n",
       "      <td>0.047470</td>\n",
       "      <td>0.0</td>\n",
       "    </tr>\n",
       "  </tbody>\n",
       "</table>\n",
       "<p>43676 rows × 4 columns</p>\n",
       "</div>"
      ],
      "text/plain": [
       "            Unnamed: 0  cancer      prob  pred\n",
       "image_id                                      \n",
       "68491            18887       0  0.073886   0.0\n",
       "127964           13448       0  0.017102   0.0\n",
       "193459           22857       0  0.014986   0.0\n",
       "225973             827       0  0.221712   0.0\n",
       "249677           13658       0  0.007233   0.0\n",
       "...                ...     ...       ...   ...\n",
       "2147266534       36145       0  0.002846   0.0\n",
       "2147293172       53694       0  0.007467   0.0\n",
       "2147355367       23227       0  0.200425   0.0\n",
       "2147415608       42946       0  0.003660   0.0\n",
       "2147471846       24051       0  0.047470   0.0\n",
       "\n",
       "[43676 rows x 4 columns]"
      ]
     },
     "execution_count": 27,
     "metadata": {},
     "output_type": "execute_result"
    }
   ],
   "source": [
    "dfm = pd.concat([df,df2]).groupby('image_id').max()\n",
    "dfm"
   ]
  },
  {
   "cell_type": "code",
   "execution_count": 24,
   "id": "5694964a",
   "metadata": {},
   "outputs": [
    {
     "data": {
      "text/plain": [
       "0.0    42488\n",
       "1.0     1128\n",
       "2.0       60\n",
       "Name: pred, dtype: int64"
      ]
     },
     "execution_count": 24,
     "metadata": {},
     "output_type": "execute_result"
    }
   ],
   "source": [
    "dfm.pred.value_counts()"
   ]
  },
  {
   "cell_type": "code",
   "execution_count": 28,
   "id": "d879fd14",
   "metadata": {},
   "outputs": [
    {
     "name": "stdout",
     "output_type": "stream",
     "text": [
      "AUC : 0.834163382108629\n"
     ]
    }
   ],
   "source": [
    "fpr, tpr, thresholds = metrics.roc_curve(dfm.cancer, dfm.prob, pos_label=1)\n",
    "auc=metrics.auc(fpr, tpr)\n",
    "print(f'AUC : {auc}')\n",
    "#sns.lineplot(x=fpr,y=tpr)"
   ]
  }
 ],
 "metadata": {
  "kernelspec": {
   "display_name": "Python 3 (ipykernel)",
   "language": "python",
   "name": "python3"
  },
  "language_info": {
   "codemirror_mode": {
    "name": "ipython",
    "version": 3
   },
   "file_extension": ".py",
   "mimetype": "text/x-python",
   "name": "python",
   "nbconvert_exporter": "python",
   "pygments_lexer": "ipython3",
   "version": "3.10.9"
  }
 },
 "nbformat": 4,
 "nbformat_minor": 5
}
