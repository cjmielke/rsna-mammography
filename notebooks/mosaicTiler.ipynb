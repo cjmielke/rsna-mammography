{
 "cells": [
  {
   "cell_type": "code",
   "execution_count": null,
   "metadata": {},
   "outputs": [],
   "source": [
    "import pandas as pd\n",
    "from PIL import Image\n",
    "import numpy as np"
   ]
  },
  {
   "cell_type": "code",
   "execution_count": null,
   "metadata": {},
   "outputs": [],
   "source": [
    "attns = pd.read_feather('/fast/rsna-breast/tables/attn_scores_all_atomic_sweep_134.feather')"
   ]
  },
  {
   "cell_type": "code",
   "execution_count": null,
   "metadata": {},
   "outputs": [],
   "source": [
    "def getTile(ptID, imgID, row, col):\n",
    "    fn = f'/fast/rsna-breast/tiles/224/{int(ptID)}/{int(imgID)}_{int(row)}_{int(col)}.png'\n",
    "    pil = Image.open(fn)\n",
    "    return pil\n"
   ]
  },
  {
   "cell_type": "code",
   "execution_count": null,
   "metadata": {},
   "outputs": [],
   "source": [
    "getTile(0,0,0,0)"
   ]
  },
  {
   "cell_type": "code",
   "execution_count": null,
   "metadata": {},
   "outputs": [],
   "source": [
    "top100=attns.sort_values('attention', ascending=False).head(100)\n",
    "top = top100.iloc[0]\n",
    "top100"
   ]
  },
  {
   "cell_type": "code",
   "execution_count": null,
   "metadata": {},
   "outputs": [],
   "source": [
    "top100r=attns.sort_values('raw', ascending=False).head(100)\n",
    "topr = top100r.iloc[0]\n",
    "top100r"
   ]
  },
  {
   "cell_type": "code",
   "execution_count": null,
   "metadata": {},
   "outputs": [],
   "source": [
    "top = top100.iloc[0]\n",
    "top"
   ]
  },
  {
   "cell_type": "code",
   "execution_count": null,
   "metadata": {},
   "outputs": [],
   "source": []
  },
  {
   "cell_type": "code",
   "execution_count": null,
   "metadata": {},
   "outputs": [],
   "source": [
    "getTile(top.ptID, top.imgID, top.row, top.col)"
   ]
  },
  {
   "cell_type": "code",
   "execution_count": null,
   "metadata": {},
   "outputs": [],
   "source": [
    "topr.astype(int)"
   ]
  },
  {
   "cell_type": "code",
   "execution_count": null,
   "metadata": {},
   "outputs": [],
   "source": [
    "getTile(topr.ptID, topr.imgID, topr.row, topr.col)"
   ]
  },
  {
   "cell_type": "code",
   "execution_count": null,
   "metadata": {},
   "outputs": [],
   "source": [
    "def mosaic(ptID, imgID, row, col):\n",
    "    subset = attns[attns.imgID==imgID]\n",
    "    print(subset)\n",
    "\n",
    "mosaic(topr.ptID, topr.imgID, topr.row, topr.col)"
   ]
  },
  {
   "cell_type": "code",
   "execution_count": null,
   "metadata": {},
   "outputs": [],
   "source": []
  },
  {
   "cell_type": "code",
   "execution_count": null,
   "metadata": {},
   "outputs": [],
   "source": [
    "subset = attns[attns.imgID==1480395667]\n",
    "subset"
   ]
  },
  {
   "cell_type": "code",
   "execution_count": null,
   "metadata": {},
   "outputs": [],
   "source": [
    "subset.row.max(), subset.col.max()"
   ]
  },
  {
   "cell_type": "code",
   "execution_count": null,
   "metadata": {},
   "outputs": [],
   "source": [
    "# width, height\n",
    "def assembleFull(ptID, imgID):\n",
    "    #ptID, imgID = 6654, 1480395667\n",
    "    subset = attns[attns.imgID==imgID]\n",
    "    dst = Image.new('RGB', (224*subset.col.max(), 224*subset.row.max()))\n",
    "    for rn, R in subset.iterrows():\n",
    "        tile = getTile(ptID, imgID, R.row, R.col)\n",
    "        dst.paste(tile, (int(224*R.col), int(224*R.row)))\n",
    "    return dst"
   ]
  },
  {
   "cell_type": "code",
   "execution_count": null,
   "metadata": {},
   "outputs": [],
   "source": [
    "attns.row.max(), attns.col.max()"
   ]
  },
  {
   "cell_type": "code",
   "execution_count": null,
   "metadata": {},
   "outputs": [],
   "source": [
    "labels[['patient_id','image_id']].value_counts()"
   ]
  },
  {
   "cell_type": "code",
   "execution_count": null,
   "metadata": {},
   "outputs": [],
   "source": [
    "from glob import glob\n",
    "from PIL import Image\n",
    "import os\n",
    "# width, height\n",
    "def assembleFull(ptID, imgID):\n",
    "    #ptID, imgID = 6654, 1480395667\n",
    "    pat = f'/fast/rsna-breast/newtiles/224/{ptID}/{imgID}_*_*.png'\n",
    "    tiles = glob(pat)\n",
    "    maxRow=0\n",
    "    maxCol=0\n",
    "    L = []\n",
    "    for tileF in tiles:\n",
    "        #print(tileF)\n",
    "        _, fn = os.path.split(tileF)\n",
    "        fn, _ = os.path.splitext(fn)\n",
    "        _, row, col = fn.split('_')\n",
    "        row, col = int(row), int(col)\n",
    "        maxRow = max(maxRow, row)\n",
    "        maxCol = max(maxCol, col)\n",
    "        tile = Image.open(tileF)\n",
    "        L.append((row, col, tile))\n",
    "    dst = Image.new('RGB', (224*(maxCol+1), 224*(maxRow+1)))\n",
    "    for row, col, tile in L:\n",
    "        dst.paste(tile, (int(224*col), int(224*row)))\n",
    "    return dst"
   ]
  },
  {
   "cell_type": "code",
   "execution_count": null,
   "metadata": {
    "scrolled": false
   },
   "outputs": [],
   "source": [
    "cr = cancer.iloc[28]\n",
    "print(cr)\n",
    "assembleFull(cr.patient_id, cr.image_id)"
   ]
  },
  {
   "cell_type": "code",
   "execution_count": null,
   "metadata": {},
   "outputs": [],
   "source": [
    "Rassemble(attns[attns.imgID==cr.image_id].sort_values('attention', ascending=False).iloc[1])"
   ]
  },
  {
   "cell_type": "code",
   "execution_count": null,
   "metadata": {
    "scrolled": false
   },
   "outputs": [],
   "source": [
    "cr = cancer.iloc[209]\n",
    "print(cr)\n",
    "assembleFull(cr.patient_id, cr.image_id)"
   ]
  },
  {
   "cell_type": "code",
   "execution_count": null,
   "metadata": {},
   "outputs": [],
   "source": [
    "Rassemble(attns[attns.imgID==cr.image_id].sort_values('attention', ascending=False).iloc[0])"
   ]
  },
  {
   "cell_type": "code",
   "execution_count": null,
   "metadata": {
    "scrolled": false
   },
   "outputs": [],
   "source": [
    "cr = cancer.iloc[2]\n",
    "print(cr)\n",
    "assembleFull(cr.patient_id, cr.image_id)"
   ]
  },
  {
   "cell_type": "code",
   "execution_count": null,
   "metadata": {},
   "outputs": [],
   "source": [
    "cr = cancer.iloc[2]\n",
    "print(cr)\n",
    "assembleFull(cr.patient_id, cr.image_id)"
   ]
  },
  {
   "cell_type": "code",
   "execution_count": null,
   "metadata": {},
   "outputs": [],
   "source": [
    "labels[labels.patient_id==21923]"
   ]
  },
  {
   "cell_type": "code",
   "execution_count": null,
   "metadata": {
    "scrolled": false
   },
   "outputs": [],
   "source": [
    "cr = cancer.iloc[245]\n",
    "print(cr)\n",
    "assembleFull(cr.patient_id, cr.image_id)"
   ]
  },
  {
   "cell_type": "code",
   "execution_count": null,
   "metadata": {
    "scrolled": false
   },
   "outputs": [],
   "source": [
    "Rassemble(attns[attns.imgID==cr.image_id].sort_values('attention', ascending=False).iloc[10])"
   ]
  },
  {
   "cell_type": "code",
   "execution_count": null,
   "metadata": {},
   "outputs": [],
   "source": []
  },
  {
   "cell_type": "code",
   "execution_count": null,
   "metadata": {},
   "outputs": [],
   "source": []
  },
  {
   "cell_type": "code",
   "execution_count": null,
   "metadata": {},
   "outputs": [],
   "source": []
  },
  {
   "cell_type": "code",
   "execution_count": null,
   "metadata": {
    "scrolled": false
   },
   "outputs": [],
   "source": [
    "assembleFull(6654, 1480395667)"
   ]
  },
  {
   "cell_type": "code",
   "execution_count": null,
   "metadata": {
    "scrolled": false
   },
   "outputs": [],
   "source": [
    "assembleFull(6654, 1480395667)"
   ]
  },
  {
   "cell_type": "code",
   "execution_count": null,
   "metadata": {},
   "outputs": [],
   "source": [
    "labels = pd.read_csv('/fast/rsna-breast/train.csv')\n",
    "cancer = labels[labels.cancer==1]\n"
   ]
  },
  {
   "cell_type": "code",
   "execution_count": null,
   "metadata": {},
   "outputs": [],
   "source": [
    "cr = cancer.iloc[0]\n",
    "print(cr)\n",
    "assembleFull(cr.patient_id, cr.image_id)"
   ]
  },
  {
   "cell_type": "code",
   "execution_count": null,
   "metadata": {},
   "outputs": [],
   "source": [
    "attns[attns.imgID==cr.image_id].sort_values('attention', ascending=False)"
   ]
  },
  {
   "cell_type": "code",
   "execution_count": null,
   "metadata": {},
   "outputs": [],
   "source": [
    "Rassemble(attns[attns.imgID==cr.image_id].sort_values('attention', ascending=False).iloc[8])"
   ]
  },
  {
   "cell_type": "code",
   "execution_count": null,
   "metadata": {},
   "outputs": [],
   "source": []
  },
  {
   "cell_type": "code",
   "execution_count": null,
   "metadata": {},
   "outputs": [],
   "source": []
  },
  {
   "cell_type": "code",
   "execution_count": null,
   "metadata": {},
   "outputs": [],
   "source": []
  },
  {
   "cell_type": "code",
   "execution_count": null,
   "metadata": {},
   "outputs": [],
   "source": []
  },
  {
   "cell_type": "code",
   "execution_count": null,
   "metadata": {},
   "outputs": [],
   "source": [
    "top100"
   ]
  },
  {
   "cell_type": "code",
   "execution_count": null,
   "metadata": {},
   "outputs": [],
   "source": [
    "assembleFull(22376,387009159)"
   ]
  },
  {
   "cell_type": "code",
   "execution_count": null,
   "metadata": {},
   "outputs": [],
   "source": [
    "assembleFull(22376,387009159)"
   ]
  },
  {
   "cell_type": "code",
   "execution_count": null,
   "metadata": {},
   "outputs": [],
   "source": [
    "assembleFull(37035,1563009599)"
   ]
  },
  {
   "cell_type": "code",
   "execution_count": null,
   "metadata": {},
   "outputs": [],
   "source": [
    "assembleFull(37035,1563009599)"
   ]
  },
  {
   "cell_type": "code",
   "execution_count": null,
   "metadata": {},
   "outputs": [],
   "source": [
    "top100"
   ]
  },
  {
   "cell_type": "code",
   "execution_count": null,
   "metadata": {
    "scrolled": false
   },
   "outputs": [],
   "source": [
    "assembleFull(65389,240295884)"
   ]
  },
  {
   "cell_type": "code",
   "execution_count": null,
   "metadata": {},
   "outputs": [],
   "source": [
    "assembleFull(65389,240295884)"
   ]
  },
  {
   "cell_type": "code",
   "execution_count": null,
   "metadata": {},
   "outputs": [],
   "source": [
    "# dataframe implementation\n",
    "def assembleROI(ptID, imgID, row, col):\n",
    "    #ptID, imgID = 6654, 1480395667\n",
    "    q = (attns.row)>row-2\n",
    "    subset = attns[attns.imgID==imgID]\n",
    "    dst = Image.new('RGB', (224*subset.col.max(), 224*subset.row.max()))\n",
    "    for rn, R in subset.iterrows():\n",
    "        tile = getTile(ptID, imgID, R.row, R.col)\n",
    "        dst.paste(tile, (int(224*R.col), int(224*R.row)))\n",
    "    return dst"
   ]
  },
  {
   "cell_type": "code",
   "execution_count": null,
   "metadata": {},
   "outputs": [],
   "source": [
    "R.astype(int)"
   ]
  },
  {
   "cell_type": "code",
   "execution_count": null,
   "metadata": {},
   "outputs": [],
   "source": [
    "# lazy filesystem implementation\n",
    "def assembleROI(ptID, imgID, row, col):\n",
    "    dst = Image.new('RGB', (224*3, 224*3))\n",
    "    def paste(r,c):\n",
    "        try:\n",
    "            tile = getTile(ptID,imgID,row+r,col+c)\n",
    "            dst.paste(tile, (224*(1+c), 224*(1+r)))\n",
    "        except:\n",
    "            print('missing')\n",
    "    paste(-1,-1)\n",
    "    paste(-1,0)\n",
    "    paste(-1,1)\n",
    "\n",
    "    paste(0,-1)\n",
    "    paste(0,0)\n",
    "    paste(0,1)\n",
    "\n",
    "    paste(1,-1)\n",
    "    paste(1,0)\n",
    "    paste(1,1)\n",
    "\n",
    "    \n",
    "\n",
    "    return dst\n",
    "\n",
    "R = top100r.iloc[0]\n",
    "assembleROI(R.ptID, R.imgID, R.row, R.col)"
   ]
  },
  {
   "cell_type": "code",
   "execution_count": null,
   "metadata": {},
   "outputs": [],
   "source": [
    "def Rassemble(R):\n",
    "    return assembleROI(R.ptID, R.imgID, R.row, R.col)\n",
    "Rassemble(top100.iloc[0])"
   ]
  },
  {
   "cell_type": "code",
   "execution_count": null,
   "metadata": {},
   "outputs": [],
   "source": [
    "Rassemble(top100.iloc[1]).size"
   ]
  },
  {
   "cell_type": "code",
   "execution_count": null,
   "metadata": {},
   "outputs": [],
   "source": [
    "224*3/2"
   ]
  },
  {
   "cell_type": "code",
   "execution_count": null,
   "metadata": {},
   "outputs": [],
   "source": [
    "from torch.utils.data import Dataset\n",
    "\n",
    "class RegionDataset(Dataset):\n",
    "    def __init__(self, df, argparse):\n",
    "        self.args = argparse\n",
    "        self.df = df.reset_index()\n",
    "        self.df = self.df.astype(int)\n",
    "\n",
    "    def __len__(self):\n",
    "        return len(self.df)\n",
    "\n",
    "    def getTile(self, ptID, imgID, row, col):\n",
    "        fn = f'/fast/rsna-breast/tiles/224/{int(ptID)}/{int(imgID)}_{int(row)}_{int(col)}.png'\n",
    "        pil = Image.open(fn)\n",
    "        return pil\n",
    "\n",
    "    def assembleRegion(self, R):\n",
    "        # lazy filesystem implementation\n",
    "        R = R.astype(int)\n",
    "        dst = Image.new('L', (224 * 3, 224 * 3))\n",
    "\n",
    "        def paste(r, c):\n",
    "            try:\n",
    "                tile = self.getTile(R.ptID, R.imgID, R.row + r, R.col + c)\n",
    "                dst.paste(tile, (224 * (1 + c), 224 * (1 + r)))\n",
    "            except:\n",
    "                print('missing')\n",
    "\n",
    "        for r in [-1,0,1]:\n",
    "            for c in [-1,0,1]:\n",
    "                paste(r,c)\n",
    "\n",
    "        return dst\n",
    "\n",
    "    def __getitem__(self, item):\n",
    "        R = self.df.iloc[item]\n",
    "        regionIMG = self.assembleRegion(R)\n",
    "        target = R.target\n",
    "        return regionIMG, target, R.raw\n",
    "\n",
    "top100r['target'] = 0\n",
    "dataset = RegionDataset(top100r, None)\n",
    "img, _, _ = dataset[19]\n",
    "img"
   ]
  },
  {
   "cell_type": "code",
   "execution_count": null,
   "metadata": {},
   "outputs": [],
   "source": [
    "labels = pd.read_csv('/fast/rsna-breast/train.csv')[['image_id','cancer']]\n",
    "topEachImage.merge(labels, left_on='imgID', right_on='image_id').cancer.value_counts()\n"
   ]
  },
  {
   "cell_type": "code",
   "execution_count": null,
   "metadata": {},
   "outputs": [],
   "source": [
    "#top5eachImage = attns.sort_values('attention', ascending=False).groupby('imgID').head(5)\n",
    "topEachImage = attns.sort_values(['imgID','attention'], ascending=False).groupby('imgID').head(10)"
   ]
  },
  {
   "cell_type": "code",
   "execution_count": null,
   "metadata": {},
   "outputs": [],
   "source": [
    "topEachImage.head(20)"
   ]
  },
  {
   "cell_type": "code",
   "execution_count": null,
   "metadata": {},
   "outputs": [],
   "source": [
    "top5eachImage.groupby('imgID').sum()"
   ]
  },
  {
   "cell_type": "code",
   "execution_count": null,
   "metadata": {},
   "outputs": [],
   "source": [
    "attns[attns.imgID==2147415608].sort_values('attention', ascending=False)"
   ]
  },
  {
   "cell_type": "code",
   "execution_count": null,
   "metadata": {},
   "outputs": [],
   "source": [
    "top5eachImage.sort_values(['ptID','imgID', 'row', 'col', 'attention']).head(30)"
   ]
  },
  {
   "cell_type": "code",
   "execution_count": null,
   "metadata": {},
   "outputs": [],
   "source": [
    "from torchvision import transforms as T\n",
    "from torch.utils.data import Dataset\n",
    "class RegionDataset(Dataset):\n",
    "    def __init__(self, df, argparse=None, validation=False):\n",
    "        self.args = argparse\n",
    "        self.df = df.reset_index()\n",
    "        self.df = self.df.astype(int)\n",
    "\n",
    "        normalize = dict(mean=[0.5], std=[0.25])\n",
    "        if validation:\n",
    "            transform = [\n",
    "                #T.RandomResizedCrop(size=224 * 2),\n",
    "                T.CenterCrop(size=2*224)\n",
    "            ]\n",
    "        else:\n",
    "            transform = [\n",
    "                # T.RandomAffine(90.0),\n",
    "                T.ColorJitter(brightness=0.25, contrast=0.25, saturation=0.25),\n",
    "                T.RandomAffine(90, shear=(-20.0, 20.0), scale=(0.95, 1.05)),\n",
    "                T.CenterCrop(size=2*224),\n",
    "                #T.RandomResizedCrop(size=224*2),\n",
    "                T.RandomHorizontalFlip(p=0.5),\n",
    "                T.RandomVerticalFlip(p=0.5),\n",
    "                #T.RandomApply([color_jitter], p=cj_prob),\n",
    "                #T.RandomGrayscale(p=random_gray_scale),\n",
    "                #GaussianBlur(\n",
    "                #    kernel_size=kernel_size * input_size_,\n",
    "                #    prob=gaussian_blur),\n",
    "            ]\n",
    "\n",
    "        #normalize = dict(mean=[0.5], std=[0.25])\n",
    "        transform += [\n",
    "            T.ToTensor(),\n",
    "            T.Normalize(mean=normalize['mean'], std=normalize['std'])      # FIXME\n",
    "        ]\n",
    "\n",
    "        transform = T.Compose(transform)\n",
    "        self.transform = transform\n",
    "\n",
    "\n",
    "    def __len__(self):\n",
    "        return len(self.df)\n",
    "\n",
    "    def getTile(self, ptID, imgID, row, col):\n",
    "        fn = f'/fast/rsna-breast/tiles/224/{int(ptID)}/{int(imgID)}_{int(row)}_{int(col)}.png'\n",
    "        pil = Image.open(fn)\n",
    "        return pil\n",
    "\n",
    "    def assembleRegion(self, R):\n",
    "        # lazy filesystem implementation\n",
    "        R = R.astype(int)\n",
    "        dst = Image.new('L', (224 * 3, 224 * 3))\n",
    "\n",
    "        missing = 0\n",
    "        def paste(r, c):\n",
    "            tile = self.getTile(R.ptID, R.imgID, R.row + r, R.col + c)\n",
    "            dst.paste(tile, (224 * (1 + c), 224 * (1 + r)))\n",
    "\n",
    "        for r in [-1, 0, 1]:\n",
    "            for c in [-1, 0, 1]:\n",
    "                try: paste(r, c)\n",
    "                except FileNotFoundError:\n",
    "                    missing += 1\n",
    "\n",
    "        print(f'missing {missing} tiles')\n",
    "\n",
    "        return dst\n",
    "\n",
    "    def __getitem__(self, item):\n",
    "        R = self.df.iloc[item]\n",
    "        regionIMG = self.assembleRegion(R)\n",
    "        regionIMG = self.transform(regionIMG)\n",
    "        print(type(regionIMG))\n",
    "        #a = np.asarray(regionIMG)\n",
    "        a = regionIMG.numpy()\n",
    "        print(a.min(),a.mean(), a.max())\n",
    "        target = R.target.astype(np.float32)\n",
    "        return regionIMG, target, R.raw\n",
    "\n",
    "\n",
    "topEachImage['target']=1\n",
    "dataset = RegionDataset(topEachImage)\n",
    "dataset[33][0]"
   ]
  },
  {
   "cell_type": "code",
   "execution_count": null,
   "metadata": {},
   "outputs": [],
   "source": []
  },
  {
   "cell_type": "code",
   "execution_count": null,
   "metadata": {},
   "outputs": [],
   "source": []
  },
  {
   "cell_type": "code",
   "execution_count": null,
   "metadata": {},
   "outputs": [],
   "source": []
  },
  {
   "cell_type": "code",
   "execution_count": null,
   "metadata": {},
   "outputs": [],
   "source": []
  },
  {
   "cell_type": "code",
   "execution_count": null,
   "metadata": {},
   "outputs": [],
   "source": []
  },
  {
   "cell_type": "code",
   "execution_count": null,
   "metadata": {},
   "outputs": [],
   "source": []
  },
  {
   "cell_type": "code",
   "execution_count": null,
   "metadata": {},
   "outputs": [],
   "source": []
  },
  {
   "cell_type": "code",
   "execution_count": null,
   "metadata": {},
   "outputs": [],
   "source": []
  },
  {
   "cell_type": "code",
   "execution_count": null,
   "metadata": {},
   "outputs": [],
   "source": []
  },
  {
   "cell_type": "code",
   "execution_count": null,
   "metadata": {},
   "outputs": [],
   "source": []
  },
  {
   "cell_type": "code",
   "execution_count": null,
   "metadata": {},
   "outputs": [],
   "source": []
  },
  {
   "cell_type": "code",
   "execution_count": null,
   "metadata": {},
   "outputs": [],
   "source": []
  },
  {
   "cell_type": "code",
   "execution_count": null,
   "metadata": {},
   "outputs": [],
   "source": []
  },
  {
   "cell_type": "code",
   "execution_count": null,
   "metadata": {},
   "outputs": [],
   "source": []
  },
  {
   "cell_type": "code",
   "execution_count": null,
   "metadata": {},
   "outputs": [],
   "source": []
  },
  {
   "cell_type": "code",
   "execution_count": null,
   "metadata": {},
   "outputs": [],
   "source": []
  },
  {
   "cell_type": "code",
   "execution_count": null,
   "metadata": {},
   "outputs": [],
   "source": []
  },
  {
   "cell_type": "code",
   "execution_count": null,
   "metadata": {},
   "outputs": [],
   "source": []
  }
 ],
 "metadata": {
  "kernelspec": {
   "display_name": "Python 3",
   "language": "python",
   "name": "python3"
  },
  "language_info": {
   "codemirror_mode": {
    "name": "ipython",
    "version": 3
   },
   "file_extension": ".py",
   "mimetype": "text/x-python",
   "name": "python",
   "nbconvert_exporter": "python",
   "pygments_lexer": "ipython3",
   "version": "3.6.9"
  }
 },
 "nbformat": 4,
 "nbformat_minor": 5
}
